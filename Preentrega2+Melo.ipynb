{
  "nbformat": 4,
  "nbformat_minor": 0,
  "metadata": {
    "colab": {
      "provenance": []
    },
    "kernelspec": {
      "name": "python3",
      "display_name": "Python 3"
    },
    "language_info": {
      "name": "python"
    }
  },
  "cells": [
    {
      "cell_type": "markdown",
      "source": [
        "# Generador de Ilustraciones para Cuentos Infantiles\n",
        "\n",
        "## Presentación del problema a abordar\n",
        "El problema que aborda este proyecto es la dificultad que enfrentan los autores de cuentos infantiles, especialmente aquellos independientes o autopublicados, para obtener ilustraciones personalizadas y de calidad para sus historias. Esto se debe a limitaciones de presupuesto, tiempo y acceso a ilustradores profesionales. Las ilustraciones son esenciales en los cuentos infantiles, ya que captan la atención de los niños y ayudan a transmitir visualmente las emociones y el contexto de la historia.\n",
        "\n",
        "## Desarrollo de la propuesta de solución\n",
        "La solución propuesta es un sistema basado en IA generativa que utiliza modelos de **texto-imagen** para crear ilustraciones a partir de fragmentos de cuentos infantiles. Los prompts se diseñarán para capturar los elementos clave de la historia (personajes, escenarios, emociones, etc.) y generar imágenes coherentes con el contenido del cuento. Además, se utilizará un modelo de **texto-texto** (como ChatGPT) para generar descripciones detalladas de las escenas, las cuales servirán como prompts para el modelo de texto-imagen.\n",
        "\n",
        "## Justificación de la viabilidad del proyecto\n",
        "El proyecto es técnicamente viable gracias a la disponibilidad de herramientas de IA generativa como DALL-E, NightCafe y Stable Diffusion. Estas herramientas permiten generar imágenes de alta calidad en cuestión de segundos, lo que hace que el proyecto sea factible dentro del tiempo y los recursos disponibles. Las limitaciones incluyen la necesidad de ajustar los prompts para obtener resultados precisos y coherentes, así como la posible dependencia de herramientas gratuitas con limitaciones en el número de generaciones diarias."
      ],
      "metadata": {
        "id": "TZJ8JU8M1z_d"
      }
    },
    {
      "cell_type": "markdown",
      "source": [
        "## Objetivos del proyecto\n",
        "- **Objetivo principal**: Desarrollar un sistema que genere ilustraciones personalizadas para cuentos infantiles utilizando modelos de IA generativa de texto-imagen.\n",
        "- **Objetivos específicos**:\n",
        "  - Comprender y aplicar técnicas de **Fast Prompting** para optimizar la generación de imágenes.\n",
        "  - Experimentar con diferentes configuraciones de prompts para mejorar la calidad y coherencia de las ilustraciones.\n",
        "  - Implementar una solución funcional en un Jupyter Notebook que demuestre la viabilidad del proyecto."
      ],
      "metadata": {
        "id": "mlV_Xa-g1_tu"
      }
    },
    {
      "cell_type": "markdown",
      "source": [
        "## Metodología\n",
        "El proyecto se llevará a cabo en las siguientes etapas:\n",
        "\n",
        "1. **Definición de prompts**: Se diseñarán prompts específicos para capturar los elementos clave de los cuentos infantiles (personajes, escenarios, emociones, etc.).\n",
        "2. **Generación de descripciones**: Se utilizará un modelo de texto-texto (como ChatGPT) para generar descripciones detalladas de las escenas a partir de fragmentos de cuentos.\n",
        "3. **Generación de imágenes**: Las descripciones generadas se utilizarán como prompts para un modelo de texto-imagen (como DALL-E o NightCafe) para crear ilustraciones.\n",
        "4. **Optimización de prompts**: Se experimentará con diferentes configuraciones de prompts para mejorar la calidad y coherencia de las imágenes generadas.\n",
        "5. **Implementación en Jupyter Notebook**: Se desarrollará un código en Python que integre las etapas anteriores y permita generar ilustraciones de manera automatizada."
      ],
      "metadata": {
        "id": "mHJ55x7n2Dlo"
      }
    },
    {
      "cell_type": "markdown",
      "source": [
        "## Herramientas y tecnologías\n",
        "- **Modelos de IA generativa**:\n",
        "  - **Texto-texto**: ChatGPT (OpenAI) para generar descripciones detalladas de las escenas.\n",
        "  - **Texto-imagen**: DALL-E, NightCafe o Stable Diffusion para generar ilustraciones a partir de los prompts.\n",
        "- **Técnicas de prompting**:\n",
        "  - **Fast Prompting**: Se utilizarán técnicas de optimización de prompts para mejorar la eficacia y reducir el número de consultas a la API.\n",
        "- **Lenguaje de programación**: Python.\n",
        "- **Entorno de desarrollo**: Jupyter Notebook."
      ],
      "metadata": {
        "id": "qnjpTXtT2I4F"
      }
    },
    {
      "cell_type": "markdown",
      "source": [
        "##Implementación"
      ],
      "metadata": {
        "id": "bdWIOZBg2j7f"
      }
    },
    {
      "cell_type": "code",
      "source": [
        "from openai import OpenAI\n",
        "\n",
        "# Configuración\n",
        "client = OpenAI(api_key=\"tu_api_key_aqui\")  # <-- Reemplaza esto\n",
        "\n",
        "def generar_descripcion(fragmento_cuento):\n",
        "    try:\n",
        "        response = client.chat.completions.create(\n",
        "            model=\"gpt-3.5-turbo\",\n",
        "            messages=[\n",
        "                {\"role\": \"user\", \"content\": f\"Genera una descripción detallada para un cuento infantil de esta escena: {fragmento_cuento}. Incluye detalles visuales como colores, ambiente y elementos clave para luego generar una imagen.\"}\n",
        "            ],\n",
        "            max_tokens=200\n",
        "        )\n",
        "        return response.choices[0].message.content.strip()\n",
        "    except Exception as e:\n",
        "        return f\"Error: {str(e)}\"\n",
        "\n",
        "def generar_ilustracion(descripcion):\n",
        "    try:\n",
        "        response = client.images.generate(\n",
        "            prompt=descripcion + \" Estilo infantil, dibujo animado, colores vibrantes.\",\n",
        "            n=1,\n",
        "            size=\"1024x1024\"\n",
        "        )\n",
        "        return response.data[0].url\n",
        "    except Exception as e:\n",
        "        return f\"Error: {str(e)}\"\n",
        "\n",
        "# Ejemplo de uso\n",
        "fragmento = \"En un pequeño pueblo rodeado de montañas, vivía una niña llamada Luna. Un día, mientras exploraba el bosque, encontró un árbol mágico que brillaba con luces doradas.\"\n",
        "descripcion = generar_descripcion(fragmento)\n",
        "print(\"Descripción:\", descripcion)\n",
        "\n",
        "if not descripcion.startswith(\"Error\"):\n",
        "    ilustracion_url = generar_ilustracion(descripcion)\n",
        "    print(\"URL de la ilustración:\", ilustracion_url)"
      ],
      "metadata": {
        "colab": {
          "base_uri": "https://localhost:8080/"
        },
        "id": "QWyNz2VK_OzL",
        "outputId": "e5d8c081-ddfc-4d98-d357-a536e49f8a09"
      },
      "execution_count": null,
      "outputs": [
        {
          "output_type": "stream",
          "name": "stdout",
          "text": [
            "Descripción: Error: Error code: 429 - {'error': {'message': 'You exceeded your current quota, please check your plan and billing details. For more information on this error, read the docs: https://platform.openai.com/docs/guides/error-codes/api-errors.', 'type': 'insufficient_quota', 'param': None, 'code': 'insufficient_quota'}}\n"
          ]
        }
      ]
    },
    {
      "cell_type": "markdown",
      "source": [
        "## Recomendaciones y optimización\n",
        "- **Optimización de prompts**: Para reducir el número de consultas a la API, se recomienda experimentar con diferentes configuraciones de prompts y ajustar los parámetros (como `max_tokens` en ChatGPT) para obtener resultados precisos con el menor número de consultas posible.\n",
        "- **Fraccionamiento del problema**: Si el cuento es complejo, divide la generación de imágenes en escenas más pequeñas y crea prompts específicos para cada una."
      ],
      "metadata": {
        "id": "2C1kh2IS2yyv"
      }
    },
    {
      "cell_type": "markdown",
      "source": [
        "## Contenidos adicionales\n",
        "- **Interactividad**: Agrega una interfaz en el notebook que permita al usuario ingresar fragmentos de cuentos y ver las ilustraciones generadas.\n",
        "- **Análisis comparativo**: Compara los resultados obtenidos con diferentes herramientas de generación de imágenes (DALL-E, NightCafe, Stable Diffusion, etc.).\n",
        "- **Prototipo funcional**: Desarrolla un prototipo que integre las imágenes generadas con el texto del cuento en un formato de libro ilustrado."
      ],
      "metadata": {
        "id": "hCFyedSZ273n"
      }
    }
  ]
}